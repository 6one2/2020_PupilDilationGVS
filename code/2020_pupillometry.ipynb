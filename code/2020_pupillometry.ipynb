{
 "cells": [
  {
   "cell_type": "markdown",
   "metadata": {},
   "source": [
    "---\n",
    "# Pupil constriction/dilation\n",
    "---"
   ]
  },
  {
   "cell_type": "code",
   "execution_count": 1,
   "metadata": {},
   "outputs": [],
   "source": [
    "import numpy as np\n",
    "import cv2\n",
    "import matplotlib.pyplot as plt\n",
    "import pandas as pd\n",
    "import os\n",
    "import time\n",
    "from remove_outliers import RM_Outliers"
   ]
  },
  {
   "cell_type": "code",
   "execution_count": 2,
   "metadata": {},
   "outputs": [
    {
     "name": "stdout",
     "output_type": "stream",
     "text": [
      "Using matplotlib backend: MacOSX\n"
     ]
    }
   ],
   "source": [
    "%matplotlib auto"
   ]
  },
  {
   "cell_type": "markdown",
   "metadata": {},
   "source": [
    "## Read xml Patient File\n",
    "look for '< ICSVideo >'\n",
    "xmlns=\"http://tempuri.org/PMRExportDataSet.xsd\""
   ]
  },
  {
   "cell_type": "code",
   "execution_count": 3,
   "metadata": {},
   "outputs": [],
   "source": [
    "from video_dat import VideoDat, time_stamp"
   ]
  },
  {
   "cell_type": "code",
   "execution_count": 26,
   "metadata": {},
   "outputs": [],
   "source": [
    "if 0:\n",
    "    vid_dat = VideoDat('../data/nico_B_2020_01_17_11_03_03.xml')\n",
    "    new_vid_dat = [x for x in vid_dat if x['cond']]\n",
    "    print([f'{i}.'+x['cond'].split('<')[0] for i, x in enumerate(new_vid_dat)])\n",
    "else:\n",
    "#     vid_dat = VideoDat('../data/YY_ZZ_2020_01_21_15_42_00.xml')\n",
    "    vid_dat = VideoDat('../data/YY_ZZ_2020_01_23_14_28_46.xml')\n",
    "    new_vid_dat = [x for x in vid_dat if x['cond']=='AC2Hz']\n"
   ]
  },
  {
   "cell_type": "markdown",
   "metadata": {},
   "source": [
    "## Setting up video file"
   ]
  },
  {
   "cell_type": "code",
   "execution_count": 33,
   "metadata": {},
   "outputs": [
    {
     "name": "stdout",
     "output_type": "stream",
     "text": [
      "../videos/YY_ZZ_2020_01_23_14_25_38_VO.avi\n",
      "Thu Jan 23 14:25:38 2020\n",
      "AC2Hz\n"
     ]
    }
   ],
   "source": [
    "_id = 2\n",
    "fname = new_vid_dat[_id]['filename']\n",
    "start_time = time_stamp(new_vid_dat[_id]['start_t'])\n",
    "end_time = time_stamp(new_vid_dat[_id]['end_t'])\n",
    "modified_time = time_stamp(new_vid_dat[_id]['mod_t'])\n",
    "cond = new_vid_dat[_id]['cond']\n",
    "\n",
    "print('../videos/'+fname)\n",
    "print(time.ctime(start_time))\n",
    "print(cond)"
   ]
  },
  {
   "cell_type": "code",
   "execution_count": 34,
   "metadata": {},
   "outputs": [],
   "source": [
    "thresh=52\n",
    "index = -1\n",
    "Area_raw =[]\n",
    "tSTP = []\n",
    "\n",
    "cap = cv2.VideoCapture('../videos/'+fname)\n",
    "# first_frame_time = cap.get(cv2.CAP_PROP_POS_MSEC)\n",
    "\n",
    "while True:\n",
    "    read_flag, frame = cap.read()\n",
    "    \n",
    "    if not read_flag:\n",
    "        break\n",
    "    \n",
    "    \n",
    "    gray = cv2.cvtColor(frame,cv2.COLOR_RGB2GRAY)\n",
    "    FR = gray.copy()\n",
    "    \n",
    "    ## Pupil detection\n",
    "    _, pupil = cv2.threshold(gray,thresh,255,cv2.THRESH_BINARY_INV)\n",
    "    contoursP, _ = cv2.findContours(pupil, cv2.RETR_TREE, cv2.CHAIN_APPROX_NONE)\n",
    "\n",
    "    for c in contoursP:\n",
    "        \n",
    "        if len(c) < 4:\n",
    "            continue\n",
    "        \n",
    "        area = cv2.contourArea(c)\n",
    "        \n",
    "        if area<150:\n",
    "            continue\n",
    "        \n",
    "        peri = cv2.arcLength(c, True)\n",
    "        M = cv2.moments(c)# check moments of an image for centroids calaculation\n",
    "        cx = int(M['m10']/M['m00'])\n",
    "        cy = int(M['m01']/M['m00'])\n",
    "        cv2.drawContours(FR,c,index,155)\n",
    "        cv2.drawMarker(FR,(cx,cy),100)\n",
    "        Area_raw.append(area)\n",
    "        tSTP.append(cap.get(cv2.CAP_PROP_POS_MSEC))\n",
    "    \n",
    "    if False:\n",
    "#         cv2.imshow('Gray', gray)\n",
    "        cv2.imshow('Pupil', FR)\n",
    "    \n",
    "        if cv2.waitKey(5) & 0xFF == ord('q'):\n",
    "            break\n",
    "\n",
    "cap.release()\n",
    "cv2.waitKey(0)\n",
    "cv2.destroyAllWindows()"
   ]
  },
  {
   "cell_type": "code",
   "execution_count": 35,
   "metadata": {},
   "outputs": [
    {
     "data": {
      "text/plain": [
       "<matplotlib.legend.Legend at 0x123c54dd8>"
      ]
     },
     "execution_count": 35,
     "metadata": {},
     "output_type": "execute_result"
    }
   ],
   "source": [
    "t = np.array(tSTP)/1000\n",
    "area = np.array(Area_raw)\n",
    "res_area = area-area[t<10].mean() # resset over first 10 second : prior to stimulation\n",
    "new_area = RM_Outliers(res_area,10) # remove outliers (blinks)\n",
    "\n",
    "lab = str(time.ctime(start_time))\n",
    "lab = cond\n",
    "\n",
    "\n",
    "plt.figure()\n",
    "plt.plot(t,res_area, label=lab ,color='k')\n",
    "plt.plot(t,new_area,color='r')\n",
    "plt.legend()"
   ]
  },
  {
   "cell_type": "markdown",
   "metadata": {},
   "source": [
    "## averaging 3 trials"
   ]
  },
  {
   "cell_type": "code",
   "execution_count": 17,
   "metadata": {},
   "outputs": [],
   "source": [
    "# AREA=[]\n",
    "AREA.append(new_area[:3600])"
   ]
  },
  {
   "cell_type": "code",
   "execution_count": 18,
   "metadata": {},
   "outputs": [],
   "source": [
    "SHAM = np.nanmean(AREA,0)"
   ]
  },
  {
   "cell_type": "markdown",
   "metadata": {},
   "source": [
    "## filtering"
   ]
  },
  {
   "cell_type": "code",
   "execution_count": null,
   "metadata": {},
   "outputs": [],
   "source": [
    "from scipy import signal"
   ]
  },
  {
   "cell_type": "code",
   "execution_count": null,
   "metadata": {},
   "outputs": [],
   "source": [
    "fs = 120 # sampling frequency\n",
    "fc = 5 # cut-off frequency\n",
    "w = fc / (fs / 2) # Normalize the frequency\n",
    "b, a = signal.butter(4, w, 'low')\n",
    "output = signal.filtfilt(b, a, new_area)"
   ]
  },
  {
   "cell_type": "code",
   "execution_count": null,
   "metadata": {},
   "outputs": [],
   "source": [
    "plt.figure(999)\n",
    "plt.plot(t,output, label=lab ,color='k')\n",
    "plt.legend()"
   ]
  },
  {
   "cell_type": "code",
   "execution_count": null,
   "metadata": {},
   "outputs": [],
   "source": []
  },
  {
   "cell_type": "code",
   "execution_count": null,
   "metadata": {},
   "outputs": [],
   "source": []
  },
  {
   "cell_type": "markdown",
   "metadata": {},
   "source": [
    "# Adding Stimulation Time Stamp"
   ]
  },
  {
   "cell_type": "code",
   "execution_count": null,
   "metadata": {},
   "outputs": [],
   "source": [
    "StarStim_time = 1579275340743/1000\n",
    "offset = StarStim_time-start_time\n",
    "plt.axvline(x=offset-1,color='r', ls=':')"
   ]
  },
  {
   "cell_type": "code",
   "execution_count": null,
   "metadata": {},
   "outputs": [],
   "source": [
    "print(StarStim_time-start_time)\n",
    "print(StarStim_time-end_time)\n",
    "print(StarStim_time-modified_time)\n",
    "print('\\n', end_time-start_time)"
   ]
  },
  {
   "cell_type": "code",
   "execution_count": null,
   "metadata": {},
   "outputs": [],
   "source": [
    "fres = os.stat('videos/'+fname)"
   ]
  },
  {
   "cell_type": "code",
   "execution_count": null,
   "metadata": {},
   "outputs": [],
   "source": [
    "fres"
   ]
  },
  {
   "cell_type": "code",
   "execution_count": null,
   "metadata": {},
   "outputs": [],
   "source": [
    "time.ctime(fres.st_mtime)"
   ]
  },
  {
   "cell_type": "code",
   "execution_count": null,
   "metadata": {},
   "outputs": [],
   "source": [
    "fres.st_mtime-t[-1]"
   ]
  },
  {
   "cell_type": "code",
   "execution_count": null,
   "metadata": {},
   "outputs": [],
   "source": [
    "time.ctime(fres.st_ctime)"
   ]
  },
  {
   "cell_type": "code",
   "execution_count": null,
   "metadata": {},
   "outputs": [],
   "source": [
    "StarStim_time-(fres.st_mtime-t[-1])"
   ]
  },
  {
   "cell_type": "code",
   "execution_count": null,
   "metadata": {},
   "outputs": [],
   "source": [
    "plt.axvline(x=10.493000030517578,color='k', ls=':')"
   ]
  },
  {
   "cell_type": "code",
   "execution_count": null,
   "metadata": {},
   "outputs": [],
   "source": [
    "plt.axvline(x=offset,color='b', ls=':')"
   ]
  },
  {
   "cell_type": "code",
   "execution_count": null,
   "metadata": {},
   "outputs": [],
   "source": []
  }
 ],
 "metadata": {
  "kernelspec": {
   "display_name": "Python 3",
   "language": "python",
   "name": "python3"
  },
  "language_info": {
   "codemirror_mode": {
    "name": "ipython",
    "version": 3
   },
   "file_extension": ".py",
   "mimetype": "text/x-python",
   "name": "python",
   "nbconvert_exporter": "python",
   "pygments_lexer": "ipython3",
   "version": "3.7.1"
  }
 },
 "nbformat": 4,
 "nbformat_minor": 4
}
